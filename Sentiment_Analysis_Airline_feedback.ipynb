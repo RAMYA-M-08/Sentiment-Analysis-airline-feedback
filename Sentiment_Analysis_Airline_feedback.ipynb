{
  "nbformat": 4,
  "nbformat_minor": 0,
  "metadata": {
    "colab": {
      "provenance": []
    },
    "kernelspec": {
      "name": "python3",
      "display_name": "Python 3"
    },
    "language_info": {
      "name": "python"
    }
  },
  "cells": [
    {
      "cell_type": "code",
      "execution_count": null,
      "metadata": {
        "id": "qrZPSVkBBw0j"
      },
      "outputs": [],
      "source": [
        "!pip install datasets\n",
        "!pip install scikit-learn\n",
        "!pip install ibm-cos-sdk\n",
        "!pip install ibm-watson-machine-learning==1.0.312\n",
        "\n",
        "import os, getpass\n",
        "from pandas import read_csv\n",
        "\n",
        "credentials = {\n",
        "    \"url\": \"https://us-south.ml.cloud.ibm.com\",\n",
        "    \"apikey\": getpass.getpass(\"Please enter your WML api key (hit enter): \")\n",
        "}\n",
        "try:\n",
        "    project_id = os.environ[\"PROJECT_ID\"]\n",
        "except KeyError:\n",
        "    project_id = input(\"Please enter your project_id (hit enter): \")\n",
        "\n",
        "project_id\n",
        "\n",
        "import os, types\n",
        "import pandas as pd\n",
        "from ibm_boto3 import client\n",
        "from botocore.client import Config\n",
        "import ibm_boto3\n",
        "\n",
        "def _iter_(self): return 0\n",
        "cos_client = ibm_boto3.client(service_name='s3',\n",
        "    ibm_api_key_id='0eJNCyEipEGeII6H1pISe6Fs9iR1nvSqzuR79Pvvu2U7', # Replace with your API Key\n",
        "    ibm_auth_endpoint=\"https://iam.cloud.ibm.com/oidc/token\",\n",
        "    config=Config(signature_version='oauth'),\n",
        "    endpoint_url='https://s3.private.us-south.cloud-object-storage.appdomain.cloud'\n",
        ")\n",
        "\n",
        "bucket = 'bucket-7kutr11s3x8t6el'  # Replace with your Bucket name\n",
        "object_key = 'airline_feedback_train.csv'\n",
        "\n",
        "body = cos_client.get_object(Bucket=bucket, Key=object_key)['Body']\n",
        "body = cos_client.get_object(Bucket=bucket, Key=object_key)['Body']\n",
        "\n",
        "if not hasattr(body, \"_iter\"): body.iter_ = types.MethodType(_iter_, body)\n",
        "\n",
        "train_data = pd.read_csv(body)\n",
        "train_data.head(5)\n",
        "\n",
        "import os, types\n",
        "import pandas as pd\n",
        "from botocore.client import Config\n",
        "import ibm_boto3\n",
        "\n",
        "def _iter_(self): return 0\n",
        "\n",
        "cos_client = ibm_boto3.client(service_name='s3',\n",
        "    ibm_api_key_id='0eJNCyEipEGeII6H1pISe6Fs9iR1nvSqzuR79Pvvu2U7',  # Replace with your API Key\n",
        "    ibm_auth_endpoint=\"https://iam.cloud.ibm.com/oidc/token\",\n",
        "    config=Config(signature_version='oauth'),\n",
        "    endpoint_url='https://s3.private.us-south.cloud-object-storage.appdomain.cloud'\n",
        ")\n",
        "bucket = 'bucket-7kutr11s3x8t6el'         # Replace with your Bucket name\n",
        "object_key = 'airline_feedback_test.csv'\n",
        "\n",
        "body = cos_client.get_object(Bucket=bucket, Key=object_key)['Body']\n",
        "\n",
        "\n",
        "if not hasattr(body, \"_iter\"): body.iter_ = types.MethodType(_iter_, body)\n",
        "\n",
        "test_data = pd.read_csv(body)\n",
        "test_data.head(5)\n",
        "train_data.shape\n",
        "test_data.shape\n",
        "\n",
        "from ibm_watson_machine_learning.foundation_models.utils.enums import ModelTypes\n",
        "\n",
        "model_id = ModelTypes.FLAN_UL2\n",
        "\n",
        "satisfaction_instruction = \"\"\"\n",
        "What is the sentiment of the customer?\n",
        "Classify it as negative, positive, or neutral.\n",
        "\n",
        "review: The food was okay, nothing special.\n",
        "sentiment: Neutral\n",
        "\n",
        "review: The crew was very helpful and kind.\n",
        "sentiment: Positive\n",
        "\n",
        "review: I missed my flight due to poor communication.\n",
        "sentiment: Negative\n",
        "\n",
        "review:\n",
        "\"\"\"\n",
        "\n",
        "\n",
        "from ibm_watson_machine_learning.metanames import GenTextParamsMetaNames as GenParams\n",
        "\n",
        "parameters = {\n",
        "    GenParams.MAX_NEW_TOKENS: 20\n",
        "}\n",
        "\n",
        "from ibm_watson_machine_learning.foundation_models import Model\n",
        "\n",
        "model = Model(\n",
        "    model_id=model_id,\n",
        "    params=parameters,\n",
        "    credentials=credentials,\n",
        "    project_id=project_id\n",
        ")\n",
        "\n",
        "import time\n",
        "\n",
        "results = []\n",
        "feedback = list(test_data.review_text)\n",
        "sentiment = list(test_data.sentiment)\n",
        "\n",
        "for input_text in feedback:\n",
        "    prompt = \" \".join([satisfaction_instruction, input_text])\n",
        "    results.append(model.generate_text(prompt=prompt))\n",
        "    time.sleep(0.6)  # Sleep to avoid hitting the rate limit\n",
        "    feedback = list(test_data.review_text)\n",
        "    sentiment = list(test_data.sentiment)"
      ]
    },
    {
      "cell_type": "code",
      "source": [
        "feedback"
      ],
      "metadata": {
        "id": "PF1jUM7zCJgz"
      },
      "execution_count": null,
      "outputs": []
    },
    {
      "cell_type": "code",
      "source": [
        "sentiment"
      ],
      "metadata": {
        "id": "SmHltOnBCLPj"
      },
      "execution_count": null,
      "outputs": []
    },
    {
      "cell_type": "code",
      "source": [
        "results"
      ],
      "metadata": {
        "id": "qDIswMX1CifT"
      },
      "execution_count": null,
      "outputs": []
    }
  ]
}